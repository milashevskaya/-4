{
 "cells": [
  {
   "cell_type": "code",
   "execution_count": 14,
   "id": "93b171a6",
   "metadata": {},
   "outputs": [],
   "source": [
    "class zno:\n",
    "    def __init__(self, name, number, rating, upTo200, gender):\n",
    "        self.name = name\n",
    "        self.number = number\n",
    "        self.rating = rating\n",
    "        self.upTo200 = upTo200\n",
    "        self.gender = gender"
   ]
  },
  {
   "cell_type": "code",
   "execution_count": 2,
   "id": "e01884e2",
   "metadata": {},
   "outputs": [],
   "source": [
    "import sqlite3\n"
   ]
  },
  {
   "cell_type": "code",
   "execution_count": 37,
   "id": "86743e88",
   "metadata": {},
   "outputs": [
    {
     "data": {
      "text/plain": [
       "<sqlite3.Cursor at 0x2583d2071f0>"
      ]
     },
     "execution_count": 37,
     "metadata": {},
     "output_type": "execute_result"
    }
   ],
   "source": [
    "conn = sqlite3.connect(\"zno.db\")\n",
    "cursor = conn.cursor()\n",
    "cursor.execute(\"\"\"CREATE TABLE zno\n",
    "                  (name text, \n",
    "                  number integer,\n",
    "                  rating integer,\n",
    "                   upTo200 integer,\n",
    "                   gender text)\n",
    "               \"\"\")"
   ]
  },
  {
   "cell_type": "code",
   "execution_count": 38,
   "id": "e791b875",
   "metadata": {},
   "outputs": [],
   "source": [
    "cursor.execute(\"\"\"INSERT INTO zno\n",
    "                  VALUES ('Bohdan', '2', '167',\n",
    "                  '33', 'male'),\n",
    "                  ('Alice', '7', '190',\n",
    "                  '10', 'female'),\n",
    "                  ('Anastacia', '1', '115',\n",
    "                  '85', 'female'),\n",
    "                  ('Maria', '15', '178',\n",
    "                  '22', 'female'),\n",
    "                  ('Vasyl', '6', '199',\n",
    "                  '1', 'male')\"\"\"\n",
    "               )\n",
    "conn.commit()"
   ]
  },
  {
   "cell_type": "code",
   "execution_count": 39,
   "id": "7f81e740",
   "metadata": {},
   "outputs": [
    {
     "name": "stdout",
     "output_type": "stream",
     "text": [
      "[('Bohdan', 2, 167, 33, 'male'), ('Alice', 7, 190, 10, 'female'), ('Anastacia', 1, 115, 85, 'female'), ('Maria', 15, 178, 22, 'female'), ('Vasyl', 6, 199, 1, 'male')]\n"
     ]
    }
   ],
   "source": [
    "sql1 = \"SELECT * FROM zno\"\n",
    "cursor.execute(sql1)\n",
    "print(cursor.fetchall())"
   ]
  },
  {
   "cell_type": "code",
   "execution_count": 59,
   "id": "e4e08758",
   "metadata": {},
   "outputs": [
    {
     "name": "stdout",
     "output_type": "stream",
     "text": [
      "[('Alice', 7, 190, 10, 'female')]\n"
     ]
    }
   ],
   "source": [
    "sql2 = \"SELECT * FROM zno WHERE name = 'Alice'\"\n",
    "cursor.execute(sql2)\n",
    "print(cursor.fetchall())"
   ]
  },
  {
   "cell_type": "code",
   "execution_count": 54,
   "id": "d8b951c8",
   "metadata": {},
   "outputs": [
    {
     "name": "stdout",
     "output_type": "stream",
     "text": [
      "[('Anastacia', 1, 115, 85, 'female')]\n"
     ]
    }
   ],
   "source": [
    "sql3 = \"SELECT * FROM zno WHERE number = 1\"\n",
    "cursor.execute(sql3)\n",
    "print(cursor.fetchall())"
   ]
  },
  {
   "cell_type": "code",
   "execution_count": 61,
   "id": "73135073",
   "metadata": {},
   "outputs": [
    {
     "data": {
      "text/plain": [
       "<sqlite3.Cursor at 0x2583d2071f0>"
      ]
     },
     "execution_count": 61,
     "metadata": {},
     "output_type": "execute_result"
    }
   ],
   "source": [
    "sql4 = \"UPDATE zno SET name = 'Alice' WHERE number = 15 OR number = 1\"\n",
    "cursor.execute(sql4)"
   ]
  },
  {
   "cell_type": "code",
   "execution_count": 62,
   "id": "1e7f49b7",
   "metadata": {},
   "outputs": [
    {
     "name": "stdout",
     "output_type": "stream",
     "text": [
      "[('Bohdan', 2, 167, 33, 'male'), ('Alice', 7, 190, 10, 'female'), ('Alice', 1, 115, 85, 'female'), ('Alice', 15, 178, 22, 'female'), ('Vasyl', 6, 199, 1, 'male')]\n"
     ]
    }
   ],
   "source": [
    "sql1 = \"SELECT * FROM zno\"\n",
    "cursor.execute(sql1)\n",
    "print(cursor.fetchall())"
   ]
  },
  {
   "cell_type": "code",
   "execution_count": 63,
   "id": "294eb20f",
   "metadata": {},
   "outputs": [
    {
     "name": "stdout",
     "output_type": "stream",
     "text": [
      "[('Alice', 7, 190, 10, 'female'), ('Alice', 1, 115, 85, 'female'), ('Alice', 15, 178, 22, 'female')]\n"
     ]
    }
   ],
   "source": [
    "sql2 = \"SELECT * FROM zno WHERE name = 'Alice'\"\n",
    "cursor.execute(sql2)\n",
    "print(cursor.fetchall())"
   ]
  },
  {
   "cell_type": "code",
   "execution_count": 64,
   "id": "7e140c8d",
   "metadata": {},
   "outputs": [
    {
     "name": "stdout",
     "output_type": "stream",
     "text": [
      "[('Alice', 1, 115, 85, 'female')]\n"
     ]
    }
   ],
   "source": [
    "sql3 = \"SELECT * FROM zno WHERE number = 1\"\n",
    "cursor.execute(sql3)\n",
    "print(cursor.fetchall())"
   ]
  }
 ],
 "metadata": {
  "kernelspec": {
   "display_name": "Python 3 (ipykernel)",
   "language": "python",
   "name": "python3"
  },
  "language_info": {
   "codemirror_mode": {
    "name": "ipython",
    "version": 3
   },
   "file_extension": ".py",
   "mimetype": "text/x-python",
   "name": "python",
   "nbconvert_exporter": "python",
   "pygments_lexer": "ipython3",
   "version": "3.8.12"
  }
 },
 "nbformat": 4,
 "nbformat_minor": 5
}
